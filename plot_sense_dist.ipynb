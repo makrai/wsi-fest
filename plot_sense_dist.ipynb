{
 "cells": [
  {
   "cell_type": "code",
   "execution_count": 1,
   "metadata": {},
   "outputs": [
    {
     "name": "stdout",
     "output_type": "stream",
     "text": [
      "Populating the interactive namespace from numpy and matplotlib\n"
     ]
    }
   ],
   "source": [
    "from matplotlib import pyplot as plt\n",
    "%matplotlib inline\n",
    "%pylab inline\n",
    "pylab.rcParams['figure.figsize'] = (15, 6)\n",
    "\n",
    "from multisense_translate import MultiSenseLinearTranslator\n"
   ]
  },
  {
   "cell_type": "code",
   "execution_count": 2,
   "metadata": {},
   "outputs": [
    {
     "name": "stderr",
     "output_type": "stream",
     "text": [
      "2017-06-27 15:46:32,456 utils (267) INFO loading KeyedVectors object from /mnt/permanent/Language/English/Embed/glove.840B.300d.gensim\n",
      "2017-06-27 15:46:37,169 utils (294) INFO loading syn0 from /mnt/permanent/Language/English/Embed/glove.840B.300d.gensim.syn0.npy with mmap=None\n",
      "2017-06-27 15:46:39,293 utils (326) INFO setting ignored attribute syn0norm to None\n",
      "2017-06-27 15:46:39,299 utils (273) INFO loaded /mnt/permanent/Language/English/Embed/glove.840B.300d.gensim\n",
      "2017-06-27 15:46:39,364 multisense_translate (68) INFO Trained on 5000 words\n",
      "2017-06-27 15:46:40,008 multisense_translate (198) INFO Testing...\n",
      "2017-06-27 15:46:40,047 multisense_translate (144) INFO Reading source mx from /mnt/permanent/Language/Hungarian/Embed/multiprot/adagram/webkorp/adagram-webkorp-800-m100_sense.mse...\n",
      "2017-06-27 15:47:06,453 multisense_translate (154) INFO Source vocab and mx read (32768, 800)\n",
      "2017-06-27 15:47:16,200 multisense_translate (158) INFO Populating reverse neighbor rank mx...\n",
      "2017-06-27 15:48:19,015 multisense_translate (172) DEBUG 33.3% of reverse neighbor rank mx populated, uint16 (32768, 10000)\n",
      "2017-06-27 15:49:21,393 multisense_translate (172) DEBUG 66.7% of reverse neighbor rank mx populated, uint16 (32768, 10000)\n",
      "2017-06-27 15:50:24,059 multisense_translate (172) DEBUG 100.0% of reverse neighbor rank mx populated, uint16 (32768, 10000)\n",
      "2017-06-27 15:50:26,104 multisense_translate (175) DEBUG Min ranks: [ 3  1 22 ...,  0  9 13]\n",
      "2017-06-27 15:51:12,250 multisense_translate (202) DEBUG skipping header: 387659 800\n"
     ]
    },
    {
     "name": "stdout",
     "output_type": "stream",
     "text": [
      "0.7079534928424653 teljesen [['wholly'], ['entirely']]  1\n",
      "0.6623991831869871 elsősorban [['chiefly'], ['mainly']]  2\n",
      "0.666128294695043 legnagyobb [['greatest'], ['biggest']]  3\n",
      "0.5216095730748832 úr [['gentleman'], ['sir'], ['lord']]  4\n",
      "0.2017976888857243 sor [['rank'], ['queue'], ['row']]  5\n",
      "0.3403343828560742 út [['avenue'], ['route']]  6\n",
      "1.0 kötelező [['compulsory', 'mandatory'], ['compulsory']]  7\n",
      "0.29466245007040326 előre [['onward'], ['beforehand']]  8\n",
      "0.11550858964218505 rendelet [['regulation'], ['doom']]  9\n",
      "0.32754397008627195 komoly [['earnest'], ['grave']]  10\n",
      "0.1485248268107366 kb. [['c.'], ['ca'], ['ca.']]  11\n",
      "0.6058898548284379 miniszter [['secretary'], ['minister']]  12\n",
      "1.0 hatalmas [['enormous', 'tremendous', 'massive', 'monumental'], ['enormous', 'massive', 'monumental'], ['enormous', 'massive'], ['tremendous'], ['massive'], ['vast'], ['enormous'], ['mighty'], ['monumental'], ['terrific']]  13\n",
      "1.0 képviselő [['delegate', 'representative'], ['delegate']]  14\n",
      "0.43112939604120426 gyors [['swift', 'speedy'], ['prompt'], ['rapid'], ['swift'], ['speedy']]  15\n",
      "0.40392314753929437 választ [['elect'], ['opt']]  16\n",
      "0.6012760780792252 jellemző [['typical'], ['characteristic']]  17\n",
      "0.2339792001353712 állandó [['perennial'], ['permanent']]  18\n",
      "0.6623991831869871 főleg [['chiefly'], ['mainly']]  19\n",
      "0.18382547762101034 terület [['zone'], ['grounds'], ['territory']]  20\n",
      "0.3396700425071625 elnök [['chairman'], ['moderator']]  21\n",
      "0.5294184867788106 idegen [['alien'], ['strange']]  22\n",
      "0.35972369667553006 gyerek [['lad'], ['childish']]  23\n",
      "0.7376496774599653 évente [['annually'], ['yearly']]  24\n",
      "0.08069428836229378 hely [['locality'], ['seat']]  25\n",
      "0.7543841050064386 különös [['bizarre'], ['strange']]  26\n",
      "0.05096399852246648 előzetes [['preliminary'], ['trailer']]  27\n",
      "0.0763228542899011 kapcsolat [['linkage'], ['affair'], ['conjunction']]  28\n",
      "1.0 vár [['castle', 'fortress'], ['castle'], ['await']]  29\n",
      "0.4082887048646285 összeg [['aggregate'], ['sum']]  30\n",
      "0.3305515957532686 gyakorlat [['drill'], ['routine']]  31\n",
      "0.39831535586721 foglalt [['busy'], ['occupied']]  32\n",
      "0.5854930115195 hirtelen [['abruptly'], ['sudden']]  33\n",
      "0.41179026619930215 biztosított [['assured'], ['insured']]  34\n",
      "0.20361109805774058 felső [['overhead'], ['superior']]  35\n",
      "0.7561657816700504 gazdag [['affluent'], ['wealthy']]  36\n",
      "0.30596585623262224 kiváló [['prime'], ['superior'], ['banner'], ['outstanding']]  37\n",
      "0.24615668209956915 csökkent [['mitigate'], ['slack'], ['lessen'], ['decrease']]  38\n",
      "0.04470627858199336 ér [['arrive'], ['vein']]  39\n",
      "0.46077468191370863 szeretet [['liking'], ['affection']]  40\n",
      "1.0 óriási [['enormous', 'gigantic'], ['enormous'], ['gigantic'], ['awesome'], ['vast']]  41\n",
      "0.8276844617900456 azután [['afterward'], ['afterwards']]  42\n",
      "0.5728046727620727 szent [['holy'], ['saint']]  43\n",
      "1.0 rendkívüli [['exceptional', 'extraordinary'], ['exceptional'], ['extraordinary']]  44\n",
      "0.9999999999999998 darab [['slice', 'chunk'], ['slice'], ['fragment'], ['chunk']]  45\n",
      "0.47913878761103357 gyakorlatilag [['practically'], ['realistically']]  46\n",
      "1.0 tanuló [['apprentice', 'pupil'], ['apprentice'], ['pupil']]  47\n",
      "0.04071179375684082 rész [['episode'], ['parcel']]  48\n",
      "0.4161738077156454 megállapodás [['covenant'], ['treaty'], ['compact']]  49\n",
      "1.0 vevő [['purchaser', 'buyer'], ['purchaser'], ['buyer']]  50\n",
      "0.2569309376302928 némi [['generic'], ['genital']]  51\n",
      "0.5044406753474514 hiba [['defect'], ['flaw'], ['fault']]  52\n",
      "0.21782572814412735 kiegészítő [['expansion'], ['supplementary'], ['complementary'], ['accessory']]  53\n",
      "0.3984898335350925 lakás [['quarters'], ['residence'], ['dwelling']]  54\n",
      "1.0 fejlődés [['progression', 'evolution'], ['progression']]  55\n",
      "0.05453525343597837 cigány [['Gypsy', 'Roma'], ['Rom'], ['Roma']]  56\n",
      "0.6365167060730323 javaslat [['suggestion'], ['recommendation']]  57\n",
      "0.3817225791735243 vállalkozás [['venture'], ['proposition'], ['undertaking'], ['enterprise']]  58\n",
      "0.6682630877027952 csökken [['lessen'], ['decrease']]  59\n",
      "0.2613360835095293 szín [['shed'], ['flush'], ['suit']]  60\n",
      "0.6763152540057533 kellemes [['pleasing'], ['pleasant']]  61\n",
      "0.16635311944198786 megelőző [['preventive', 'preventative'], ['anterior'], ['preceding']]  62\n",
      "1.0 örök [['eternal', 'perpetual'], ['eternal'], ['perpetual']]  63\n",
      "0.5250395018446137 szokásos [['ordinary'], ['usual']]  64\n",
      "0.3937603946197963 állandóan [['steadily'], ['permanently'], ['constantly']]  65\n",
      "0.1760952538179956 hatalom [['empire'], ['leverage']]  66\n",
      "0.2761445236153576 eszköz [['instrument'], ['gadget']]  67\n",
      "0.2381311847876067 üres [['vacant'], ['hollow']]  68\n",
      "0.3242579099084042 előadás [['presenting'], ['rendering'], ['lecture']]  69\n",
      "0.7124001517879277 lélek [['spirit'], ['soul']]  70\n",
      "0.37911559878970147 vállalat [['enterprise'], ['undertaking'], ['corporation']]  71\n",
      "1.0 ellenőrzés [['inspection', 'examination'], ['inspection'], ['examination']]  72\n",
      "0.9999999999999998 kiállítás [['exhibit', 'exhibition'], ['exhibit'], ['exhibition']]  73\n",
      "0.7555173698240701 megbízható [['dependable', 'reliable'], ['trustworthy'], ['dependable'], ['reliable']]  74\n",
      "0.3362996232039548 kör [['lap'], ['circle'], ['compass'], ['sphere']]  75\n",
      "0.40929190094280943 kutatás [['quest'], ['exploration'], ['investigation']]  76\n",
      "0.9999999999999998 értékes [['valuable', 'precious'], ['valuable'], ['precious']]  77\n",
      "0.18098813347591236 megfelel [['suit'], ['correspond']]  78\n",
      "0.25583044184885345 kötelezettség [['obligation'], ['engagement']]  79\n",
      "0.7529542886064525 csodálatos [['delightful'], ['marvelous']]  80\n",
      "1.0 szabadság [['independence', 'liberty'], ['independence'], ['liberty']]  81\n",
      "0.362432463300303 szigorú [['strict', 'stern'], ['severe'], ['strict'], ['stern']]  82\n",
      "0.34292550932406485 finom [['refined'], ['tasty']]  83\n",
      "0.4554515458131111 szomszédos [['neighboring', 'neighbouring'], ['neighbour'], ['neighboring'], ['adjacent'], ['neighbouring']]  84\n",
      "0.3633479607507699 átmeneti [['temporary'], ['transitional']]  85\n",
      "0.26163976994850446 vállalkozó [['contractor'], ['entrepreneur']]  86\n",
      "0.6475945635430158 jelölt [['candidate'], ['nominee']]  87\n",
      "0.4471983679887685 bíró [['judge'], ['referee']]  88\n",
      "0.45448188211358437 lényeg [['essence'], ['substance']]  89\n",
      "0.1512364544584765 hátsó [['rear'], ['hinder']]  90\n",
      "1.0 ég [['heaven', 'heavens'], ['heaven'], ['burn'], ['sky']]  91\n",
      "0.05436385959454634 villamos [['electro'], ['tram']]  92\n",
      "0.5022358918947143 érzés [['sentiment'], ['emotion']]  93\n",
      "0.20282864930246153 piros [['hearts'], ['rot']]  94\n",
      "0.7543841050064386 furcsa [['bizarre'], ['strange'], ['odd'], ['queer']]  95\n",
      "0.45041867009349107 titkos [['confidential'], ['secret']]  96\n",
      "0.3823601416682737 eladó [['vendor'], ['salesman']]  97\n",
      "0.32185482135059973 ábra [['graph'], ['illustration']]  98\n",
      "0.30897673619966376 származik [['stem'], ['originate'], ['arise']]  99\n",
      "0.5250395018446137 rendes [['ordinary'], ['usual'], ['orderly'], ['neat']]  100\n",
      "0.5143899669611842 szövetség [['alliance', 'coalition'], ['union'], ['alliance'], ['coalition']]  101\n",
      "0.018206778242266537 alkotó [['constituent'], ['creator'], ['creative']]  102\n",
      "0.24375567831223713 szánt [['till'], ['ear']]  103\n",
      "0.18729247249189807 induló [['candidate'], ['march']]  104\n",
      "0.5983764166972694 Katalin [['Katie'], ['Kathryn'], ['Katrina']]  105\n",
      "0.4857521398826854 önkéntes [['volunteer'], ['voluntary']]  106\n",
      "0.35754458657530247 vallás [['disciple'], ['religion']]  107\n",
      "1.0 hibás [['defective', 'faulty'], ['defective'], ['faulty']]  108\n",
      "0.1716520987155219 drága [['dear'], ['expensive'], ['precious']]  109\n",
      "1.0 kezdő [['beginner', 'newbie', 'novice'], ['beginner', 'newbie'], ['beginner', 'novice'], ['newbie', 'novice'], ['beginner'], ['newbie'], ['novice'], ['rookie']]  110\n",
      "1.0000000000000002 káros [['damaging', 'detrimental'], ['damaging', 'harmful'], ['damaging'], ['detrimental']]  111\n",
      "0.3282519255956835 forgalom [['circulation'], ['turnover']]  112\n",
      "0.45879207050442067 megszokott [['accustomed'], ['usual']]  113\n",
      "0.20467242811111952 ülés [['sitting'], ['assembly'], ['seat']]  114\n",
      "1.0 szempont [['aspect', 'viewpoint'], ['aspect'], ['standpoint'], ['angle'], ['viewpoint']]  115\n",
      "0.4888787590568907 hír [['fame'], ['reputation']]  116\n",
      "1.0000000000000002 ritka [['sparse', 'rare'], ['sparse'], ['rare'], ['odd'], ['scarce']]  117\n"
     ]
    },
    {
     "name": "stdout",
     "output_type": "stream",
     "text": [
      "0.2574074501624708 mutató [['pointer'], ['needle']]  118\n",
      "0.4622035713551237 alapos [['substantial'], ['thorough']]  119\n",
      "0.352130173442485 bemutató [['premiere'], ['exhibition'], ['presenter']]  120\n",
      "1.0 hamis [['fake', 'counterfeit'], ['fake'], ['counterfeit']]  121\n",
      "0.3624700180548881 szokás [['usage'], ['habit']]  122\n",
      "0.5537949224255493 bűn [['guilt'], ['sin']]  123\n",
      "1.0 érthető [['understandable', 'articulate'], ['understandable'], ['articulate']]  124\n",
      "0.48619002731028127 adminisztrátor [['administrator'], ['clerk']]  125\n",
      "1.0 földrajzi [['geographic', 'geographical'], ['geographic'], ['geographical']]  126\n",
      "0.10077208331273005 kar [['arm'], ['choir']]  127\n",
      "0.2235376984985722 lengyel [['Pole'], ['Polish']]  128\n",
      "0.8868694437545317 színház [['theater', 'theatre'], ['theatre']]  129\n",
      "0.3486185114860465 kerület [['ward'], ['borough'], ['compass'], ['circumference'], ['perimeter'], ['township']]  130\n",
      "0.9999999999999998 tilos [['forbidden', 'prohibited'], ['forbidden'], ['prohibited']]  131\n",
      "1.0000000000000002 hulladék [['trash', 'rubbish', 'garbage'], ['trash', 'garbage'], ['garbage'], ['rubbish'], ['litter'], ['trash']]  132\n",
      "0.7138167867746039 nyugodt [['quiet', 'calm'], ['calm']]  133\n",
      "0.4609966832250081 ideiglenes [['provisional'], ['temporary']]  134\n",
      "0.6500296862101138 beszélgetés [['conversation'], ['dialogue']]  135\n",
      "0.10014488569731175 kitűnő [['exquisite'], ['banner']]  136\n",
      "1.0 baleset [['accident', 'crash'], ['accident'], ['crash']]  137\n",
      "1.0000000000000002 szemét [['trash', 'rubbish', 'garbage'], ['trash', 'garbage'], ['garbage'], ['rubbish'], ['litter'], ['trash']]  138\n",
      "1.0000000000000002 utazás [['traveling', 'travelling', 'voyage', 'journey'], ['traveling', 'travelling', 'journey'], ['traveling', 'travelling'], ['traveling', 'journey'], ['traveling'], ['voyage'], ['journey']]  139\n",
      "0.378658844283397 csoda [['marvel'], ['miracle']]  140\n",
      "0.29484690479479514 vagyon [['wealth'], ['substance'], ['fortune']]  141\n",
      "0.7302192981493361 öröm [['delight'], ['joy']]  142\n",
      "0.5293226188200079 törvényes [['statutory'], ['lawful']]  143\n",
      "0.10056386177756718 egyenes [['frank'], ['linear'], ['straightforward']]  144\n",
      "0.11415939627038696 sorozat [['succession'], ['suite'], ['serial']]  145\n",
      "0.2639148944283897 közepes [['moderate'], ['mediocre']]  146\n",
      "0.5867137520920588 vers [['rhyme'], ['poem']]  147\n",
      "0.38558738161640627 nemes [['noble'], ['sublime'], ['peer']]  148\n",
      "0.4365106347461639 nyilvánvaló [['apparent'], ['trivial'], ['plain']]  149\n",
      "1.0000000000000002 kifejezés [['phrases', 'phrase'], ['phrases'], ['phrase']]  150\n",
      "0.7438576362620097 nagyszerű [['exquisite', 'splendid'], ['splendid']]  151\n",
      "0.31543188468399336 teljesítmény [['achievement'], ['efficiency'], ['accomplishment']]  152\n",
      "0.6884602947931333 állít [['declare'], ['assert']]  153\n",
      "0.5554061774633224 etikai [['ethical'], ['ethic']]  154\n",
      "0.19336242500065723 eltérés [['departure'], ['variance']]  155\n",
      "0.3511130979395315 gonosz [['wicked'], ['malicious']]  156\n",
      "0.6012760780792252 jellegzetes [['typical'], ['characteristic']]  157\n",
      "0.38351011431547133 uralkodó [['ruler', 'sovereign'], ['ruling'], ['ruler'], ['prince'], ['sovereign']]  158\n",
      "0.35153198415104847 vékony [['sheer'], ['thin'], ['slim']]  159\n",
      "0.2732913226317975 követ [['haunt'], ['succeed']]  160\n",
      "0.37460298724565566 védelem [['shield'], ['defense']]  161\n",
      "0.46163132986277833 emelkedik [['lift', 'tower'], ['climb'], ['lift'], ['tower']]  162\n",
      "0.30771032519604613 illő [['suitable'], ['pertinent']]  163\n",
      "0.28793587210575344 helyettes [['assistant'], ['substitute']]  164\n",
      "1.0000000000000002 őszinte [['frank', 'sincere'], ['frank'], ['honest'], ['sincere']]  165\n",
      "0.7070615561602642 szerencsés [['lucky'], ['fortunate']]  166\n",
      "0.507254266928047 édes [['sweet'], ['sweetheart']]  167\n",
      "1.0 boldogság [['bliss', 'happiness'], ['bliss'], ['happiness'], ['delight']]  168\n",
      "0.12678316530015385 tömeg [['mob'], ['bulk'], ['cloud'], ['crowd']]  169\n",
      "0.41283556627685125 szellem [['spirit'], ['ghost']]  170\n",
      "0.19580373456520966 puszta [['pure'], ['bleak'], ['sheer'], ['plain']]  171\n",
      "0.31200861664831475 érzékeny [['raw'], ['sensitive']]  172\n",
      "0.6046420662114982 utólag [['afterwards'], ['subsequently']]  173\n",
      "0.348606551785026 utas [['fare'], ['passenger']]  174\n",
      "0.22368243615875888 környező [['ambient'], ['surrounding']]  175\n",
      "0.3234864760148835 áru [['cargo'], ['merchandise'], ['ware']]  176\n",
      "0.4898722308608013 határ [['frontier'], ['border'], ['boundary']]  177\n",
      "1.0 lakott [['inhabited', 'populated'], ['inhabited'], ['populated']]  178\n",
      "0.14108039629112984 terem [['yield'], ['classroom'], ['hall']]  179\n",
      "0.6936093552524566 erdő [['forest'], ['woods']]  180\n",
      "0.2868577435911216 szakértő [['adviser'], ['judge'], ['adept']]  181\n",
      "0.24285710062254898 készít [['prepare'], ['manufacture']]  182\n",
      "0.5907195275405401 növény [['herb'], ['vegetable']]  183\n",
      "0.41384694989782617 tanítás [['tuition'], ['lesson'], ['instruction']]  184\n",
      "0.3987641923279326 halálos [['lethal'], ['mortal']]  185\n",
      "1.0 hivatalosan [['formally', 'officially'], ['formally'], ['officially']]  186\n",
      "0.4014334268288511 versenyző [['contestant'], ['competitor']]  187\n",
      "0.5080746134845262 szürke [['gray', 'grey'], ['dusty'], ['gray'], ['grey']]  188\n",
      "0.66698173476947 bizonytalan [['unsure'], ['uncertain']]  189\n",
      "0.5724955069466746 rugalmas [['flexible'], ['resilient']]  190\n",
      "0.33300285342970865 bír [['bear'], ['possess']]  191\n",
      "0.6209117255247529 mostanában [['lately'], ['nowadays']]  192\n",
      "0.2514837294267137 előbbi [['anterior'], ['preceding']]  193\n",
      "0.26893744837203204 köt [['knit'], ['bind'], ['tie']]  194\n",
      "0.384903370986175 készülék [['apparatus'], ['appliance']]  195\n",
      "1.0 hiány [['shortage', 'deficiency'], ['shortage'], ['deficiency'], ['poverty']]  196\n",
      "0.6708417429171124 számla [['receipt'], ['invoice']]  197\n",
      "0.6290379065942842 csendes [['quiet', 'calm'], ['silent'], ['quiet'], ['calm']]  198\n"
     ]
    },
    {
     "name": "stderr",
     "output_type": "stream",
     "text": [
      "2017-06-27 15:55:21,080 multisense_translate (105) INFO prec after testing on 1000 words: 64.600000% (good_disambig: 198)\n"
     ]
    },
    {
     "name": "stdout",
     "output_type": "stream",
     "text": [
      "64.6%\n"
     ]
    }
   ],
   "source": [
    "sims = MultiSenseLinearTranslator(source_mse='/mnt/permanent/Language/Hungarian/Embed/multiprot/adagram/webkorp/adagram-webkorp-800-m100_sense.mse', restrict_vocab=2**15).main()"
   ]
  },
  {
   "cell_type": "code",
   "execution_count": 5,
   "metadata": {},
   "outputs": [
    {
     "data": {
      "text/plain": [
       "198"
      ]
     },
     "execution_count": 5,
     "metadata": {},
     "output_type": "execute_result"
    }
   ],
   "source": [
    "len(sims)"
   ]
  },
  {
   "cell_type": "code",
   "execution_count": 6,
   "metadata": {},
   "outputs": [
    {
     "data": {
      "text/plain": [
       "(array([ 13.,  16.,  26.,  38.,  24.,  18.,  14.,  12.,   2.,  35.]),\n",
       " array([ 0.01820678,  0.1163861 ,  0.21456542,  0.31274474,  0.41092407,\n",
       "         0.50910339,  0.60728271,  0.70546203,  0.80364136,  0.90182068,  1.        ]),\n",
       " <a list of 10 Patch objects>)"
      ]
     },
     "execution_count": 6,
     "metadata": {},
     "output_type": "execute_result"
    },
    {
     "data": {
      "image/png": "[encoded data removed]",
      "text/plain": [
       "<matplotlib.figure.Figure at 0x7f487c177208>"
      ]
     },
     "metadata": {},
     "output_type": "display_data"
    }
   ],
   "source": [
    "plt.hist(sims)"
   ]
  }
 ],
 "metadata": {
  "kernelspec": {
   "display_name": "Python 3",
   "language": "python",
   "name": "python3"
  },
  "language_info": {
   "codemirror_mode": {
    "name": "ipython",
    "version": 3
   },
   "file_extension": ".py",
   "mimetype": "text/x-python",
   "name": "python",
   "nbconvert_exporter": "python",
   "pygments_lexer": "ipython3",
   "version": "3.4.2"
  }
 },
 "nbformat": 4,
 "nbformat_minor": 2
}
