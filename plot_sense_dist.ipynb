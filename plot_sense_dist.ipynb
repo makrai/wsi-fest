{
 "cells": [
  {
   "cell_type": "code",
   "execution_count": 1,
   "metadata": {},
   "outputs": [
    {
     "name": "stdout",
     "output_type": "stream",
     "text": [
      "Populating the interactive namespace from numpy and matplotlib\n"
     ]
    }
   ],
   "source": [
    "from matplotlib import pyplot as plt\n",
    "%matplotlib inline\n",
    "%pylab inline\n",
    "pylab.rcParams['figure.figsize'] = (15, 6)\n",
    "\n",
    "from multisense_translate import MultiSenseLinearTranslator\n"
   ]
  },
  {
   "cell_type": "code",
   "execution_count": 2,
   "metadata": {},
   "outputs": [
    {
     "name": "stderr",
     "output_type": "stream",
     "text": [
      "2017-06-30 12:10:15,708 utils (267) INFO loading KeyedVectors object from /mnt/permanent/Language/English/Embed/glove.840B.300d.gensim\n",
      "2017-06-30 12:10:22,100 utils (294) INFO loading syn0 from /mnt/permanent/Language/English/Embed/glove.840B.300d.gensim.syn0.npy with mmap=None\n",
      "2017-06-30 12:10:22,784 utils (326) INFO setting ignored attribute syn0norm to None\n",
      "2017-06-30 12:10:22,787 utils (273) INFO loaded /mnt/permanent/Language/English/Embed/glove.840B.300d.gensim\n",
      "2017-06-30 12:10:22,848 multisense_translate (104) INFO Trained on 5000 words\n",
      "2017-06-30 12:10:23,344 multisense_translate (248) INFO Testing...\n",
      "2017-06-30 12:10:23,382 multisense_translate (198) INFO Reading source mx from /mnt/permanent/Language/Hungarian/Embed/multiprot/adagram/webkorp/adagram-webkorp-800-m100_sense.mse...\n",
      "2017-06-30 12:10:45,752 multisense_translate (212) INFO Source vocab and mx read (32768, 800)\n",
      "2017-06-30 12:10:54,709 multisense_translate (227) INFO Populating reverse neighbor rank mx...\n",
      "2017-06-30 12:11:47,420 multisense_translate (241) DEBUG 33.3% of reverse neighbor rank mx populated, uint16 (32768, 10000)\n",
      "2017-06-30 12:12:40,332 multisense_translate (241) DEBUG 66.7% of reverse neighbor rank mx populated, uint16 (32768, 10000)\n",
      "2017-06-30 12:13:33,295 multisense_translate (241) DEBUG 100.0% of reverse neighbor rank mx populated, uint16 (32768, 10000)\n",
      "2017-06-30 12:13:35,249 multisense_translate (244) DEBUG Min ranks: [4 3 1 ..., 1 3 2]\n",
      "2017-06-30 12:14:20,077 multisense_translate (252) DEBUG skipping header: 387659 800\n",
      "2017-06-30 12:14:20,518 multisense_translate (183) DEBUG 1.0 teljesen [['entirely', 'wholly'], ['entirely'], ['wholly']]  0.5 1\n",
      "2017-06-30 12:14:20,723 multisense_translate (183) DEBUG 1.0 legnagyobb [['biggest', 'greatest'], ['biggest'], ['greatest']]  0.67 2\n",
      "2017-06-30 12:14:20,833 multisense_translate (183) DEBUG 0.3757 külön [['separately'], ['apart']]  1.0 3\n",
      "2017-06-30 12:14:20,879 multisense_translate (183) DEBUG 0.3272 fő [['prime'], ['principal']]  0.67 4\n",
      "2017-06-30 12:14:20,983 multisense_translate (183) DEBUG 0.4837 belső [['inner'], ['interior']]  1.0 5\n",
      "2017-06-30 12:14:21,164 multisense_translate (183) DEBUG 0.6721 csupán [['mere'], ['merely']]  1.0 6\n",
      "2017-06-30 12:14:21,853 multisense_translate (183) DEBUG 0.5179 úr [['sir'], ['lord']]  0.5 7\n",
      "2017-06-30 12:14:21,882 multisense_translate (183) DEBUG 0.2936 sor [['rank'], ['row'], ['queue']]  1.0 8\n",
      "2017-06-30 12:14:22,184 multisense_translate (183) DEBUG 0.4233 tartozik [['belong'], ['owe']]  0.67 9\n",
      "2017-06-30 12:14:22,334 multisense_translate (183) DEBUG 0.3403 út [['avenue'], ['route']]  1.0 10\n",
      "2017-06-30 12:14:23,223 multisense_translate (183) DEBUG 0.2947 előre [['beforehand'], ['onward']]  1.0 11\n",
      "2017-06-30 12:14:23,399 multisense_translate (183) DEBUG 0.418 cég [['corporation'], ['undertaking']]  0.67 12\n",
      "2017-06-30 12:14:23,913 multisense_translate (183) DEBUG 0.1155 rendelet [['doom'], ['regulation']]  0.67 13\n",
      "2017-06-30 12:14:24,012 multisense_translate (183) DEBUG 0.3275 komoly [['grave'], ['earnest']]  0.67 14\n",
      "2017-06-30 12:14:24,314 multisense_translate (183) DEBUG 0.4335 kb. [['ca.'], ['c.'], ['ca']]  0.5 15\n",
      "2017-06-30 12:14:24,519 multisense_translate (183) DEBUG 0.7281 pontosan [['accurately'], ['precisely']]  1.0 16\n",
      "2017-06-30 12:14:26,286 multisense_translate (183) DEBUG 0.6502 alig [['barely'], ['scarcely']]  0.67 17\n",
      "2017-06-30 12:14:26,457 multisense_translate (183) DEBUG 1.0 hatalmas [['massive', 'enormous', 'monumental'], ['massive', 'tremendous', 'enormous'], ['massive', 'enormous'], ['tremendous', 'monumental'], ['mighty'], ['terrific'], ['monumental'], ['tremendous'], ['massive'], ['vast']]  0.88 18\n",
      "2017-06-30 12:14:26,511 multisense_translate (183) DEBUG 1.0 képviselő [['representative', 'delegate'], ['representative'], ['delegate']]  0.67 19\n",
      "2017-06-30 12:14:26,626 multisense_translate (183) DEBUG 0.5975 gyors [['swift', 'speedy'], ['speedy', 'prompt'], ['swift'], ['rapid'], ['prompt']]  0.67 20\n",
      "2017-06-30 12:14:26,860 multisense_translate (183) DEBUG 0.6013 jellemző [['typical'], ['characteristic']]  1.0 21\n",
      "2017-06-30 12:14:27,044 multisense_translate (183) DEBUG 0.234 állandó [['permanent'], ['perennial']]  1.0 22\n",
      "2017-06-30 12:14:27,101 multisense_translate (183) DEBUG 0.7021 rendkívül [['exceedingly'], ['immensely']]  0.5 23\n",
      "2017-06-30 12:14:27,910 multisense_translate (183) DEBUG 0.6624 főleg [['mainly'], ['chiefly']]  0.67 24\n",
      "2017-06-30 12:14:28,365 multisense_translate (183) DEBUG 0.3362 terület [['grounds'], ['territory'], ['zone'], ['scope']]  0.67 25\n",
      "2017-06-30 12:14:28,571 multisense_translate (183) DEBUG 0.4258 kedves [['lover'], ['lovely'], ['dear']]  0.75 26\n",
      "2017-06-30 12:14:28,635 multisense_translate (183) DEBUG 0.3397 elnök [['moderator'], ['chairman']]  1.0 27\n",
      "2017-06-30 12:14:28,709 multisense_translate (183) DEBUG 0.4058 érdekes [['readable'], ['intriguing']]  1.0 28\n",
      "2017-06-30 12:14:28,912 multisense_translate (183) DEBUG 0.5294 idegen [['alien'], ['strange'], ['stranger']]  0.6 29\n",
      "2017-06-30 12:14:29,474 multisense_translate (183) DEBUG 0.4347 súlyos [['disastrous'], ['severe'], ['earnest']]  1.0 30\n",
      "2017-06-30 12:14:29,867 multisense_translate (183) DEBUG 0.4501 gyerek [['childish'], ['kid'], ['lad']]  1.0 31\n",
      "2017-06-30 12:14:30,123 multisense_translate (183) DEBUG 0.7803 szépen [['nicely'], ['beautifully']]  1.0 32\n",
      "2017-06-30 12:14:31,373 multisense_translate (183) DEBUG 0.7719 biztosan [['surely'], ['definitely']]  1.0 33\n",
      "2017-06-30 12:14:31,467 multisense_translate (183) DEBUG 1.0 beteg [['ill', 'sick'], ['ill'], ['sick']]  1.0 34\n",
      "2017-06-30 12:14:33,473 multisense_translate (183) DEBUG 0.7376 évente [['yearly'], ['annually']]  1.0 35\n",
      "2017-06-30 12:14:34,972 multisense_translate (183) DEBUG 0.08069 hely [['locality'], ['seat']]  0.5 36\n",
      "2017-06-30 12:14:36,875 multisense_translate (183) DEBUG 0.7544 különös [['bizarre'], ['strange']]  1.0 37\n",
      "2017-06-30 12:14:37,324 multisense_translate (183) DEBUG 0.05096 előzetes [['preliminary'], ['trailer']]  1.0 38\n",
      "2017-06-30 12:14:37,552 multisense_translate (183) DEBUG 0.07632 kapcsolat [['affair'], ['linkage'], ['conjunction']]  0.33 39\n",
      "2017-06-30 12:14:38,123 multisense_translate (183) DEBUG 0.7357 vár [['fortress', 'castle'], ['castle'], ['await']]  1.0 40\n",
      "2017-06-30 12:14:38,239 multisense_translate (183) DEBUG 0.3665 számít [['rely'], ['calculate']]  1.0 41\n",
      "2017-06-30 12:14:39,594 multisense_translate (183) DEBUG 0.4083 összeg [['aggregate'], ['sum']]  1.0 42\n",
      "2017-06-30 12:14:39,711 multisense_translate (183) DEBUG 0.3306 gyakorlat [['drill'], ['routine']]  0.4 43\n",
      "2017-06-30 12:14:39,828 multisense_translate (183) DEBUG 0.3983 foglalt [['occupied'], ['busy']]  1.0 44\n",
      "2017-06-30 12:14:39,946 multisense_translate (183) DEBUG 0.4719 asszony [['widow'], ['lady']]  0.67 45\n",
      "2017-06-30 12:14:40,065 multisense_translate (183) DEBUG 0.4723 vizsgálat [['inquiry'], ['examination']]  0.67 46\n",
      "2017-06-30 12:14:40,183 multisense_translate (183) DEBUG 0.5855 hirtelen [['abruptly'], ['sudden'], ['suddenly']]  0.6 47\n",
      "2017-06-30 12:14:40,420 multisense_translate (183) DEBUG 0.4035 valódi [['substantial'], ['genuine']]  1.0 48\n",
      "2017-06-30 12:14:40,777 multisense_translate (183) DEBUG 0.4118 biztosított [['assured'], ['insured']]  1.0 49\n",
      "2017-06-30 12:14:41,255 multisense_translate (183) DEBUG 0.3763 gazdag [['wealthy'], ['substantial'], ['affluent']]  1.0 50\n",
      "2017-06-30 12:14:42,216 multisense_translate (183) DEBUG 0.6751 sajátos [['peculiar'], ['characteristic']]  0.67 51\n",
      "2017-06-30 12:14:42,826 multisense_translate (183) DEBUG 0.1475 kiváló [['banner'], ['prime'], ['outstanding']]  0.75 52\n",
      "2017-06-30 12:14:43,948 multisense_translate (183) DEBUG 0.3013 csökkent [['decrease'], ['slack'], ['mitigate'], ['lessen']]  0.29 53\n",
      "2017-06-30 12:14:45,094 multisense_translate (183) DEBUG 0.6858 alapvetően [['essentially'], ['fundamentally'], ['basically']]  1.0 54\n",
      "2017-06-30 12:14:47,642 multisense_translate (183) DEBUG 0.04471 ér [['vein'], ['arrive']]  0.67 55\n",
      "2017-06-30 12:14:48,307 multisense_translate (183) DEBUG 0.4608 szeretet [['affection'], ['liking']]  0.67 56\n",
      "2017-06-30 12:14:48,711 multisense_translate (183) DEBUG 0.33 óriási [['enormous', 'gigantic'], ['awesome'], ['enormous'], ['vast'], ['gigantic']]  0.67 57\n"
     ]
    },
    {
     "name": "stderr",
     "output_type": "stream",
     "text": [
      "2017-06-30 12:14:48,982 multisense_translate (183) DEBUG 0.8001 kedvező [['favorable'], ['favourable']]  1.0 58\n",
      "2017-06-30 12:14:49,525 multisense_translate (183) DEBUG 0.8277 azután [['afterwards', 'afterward'], ['afterward'], ['afterwards']]  0.67 59\n",
      "2017-06-30 12:14:49,662 multisense_translate (183) DEBUG 0.4015 szent [['saint'], ['sacred'], ['holy']]  1.0 60\n",
      "2017-06-30 12:14:50,486 multisense_translate (183) DEBUG 0.2986 darab [['chunk', 'slice'], ['cake'], ['fragment'], ['chunk'], ['slice']]  0.8 61\n",
      "2017-06-30 12:14:50,625 multisense_translate (183) DEBUG 0.4791 gyakorlatilag [['practically'], ['realistically']]  0.67 62\n",
      "2017-06-30 12:14:52,830 multisense_translate (183) DEBUG 1.0 tanuló [['apprentice', 'pupil'], ['apprentice'], ['pupil']]  1.0 63\n",
      "2017-06-30 12:14:53,535 multisense_translate (183) DEBUG 0.04071 rész [['episode'], ['parcel']]  1.0 64\n",
      "2017-06-30 12:14:53,820 multisense_translate (183) DEBUG 0.1074 megállapodás [['compact'], ['covenant'], ['treaty']]  0.6 65\n",
      "2017-06-30 12:14:54,250 multisense_translate (183) DEBUG 1.0 vevő [['buyer', 'purchaser'], ['buyer'], ['purchaser']]  1.0 66\n",
      "2017-06-30 12:14:54,538 multisense_translate (183) DEBUG 0.634 ismeretlen [['strange'], ['stranger']]  1.0 67\n",
      "2017-06-30 12:14:55,403 multisense_translate (183) DEBUG 0.6154 hiba [['fault'], ['mistake'], ['flaw'], ['defect']]  1.0 68\n",
      "2017-06-30 12:14:55,550 multisense_translate (183) DEBUG 0.2153 kiegészítő [['accessory'], ['expansion'], ['complementary'], ['supplementary']]  0.8 69\n",
      "2017-06-30 12:14:55,699 multisense_translate (183) DEBUG 0.3815 lakás [['dwelling'], ['quarters']]  0.33 70\n",
      "2017-06-30 12:14:56,289 multisense_translate (183) DEBUG 0.4296 együttműködés [['interaction'], ['cooperation'], ['collaboration']]  0.5 71\n",
      "2017-06-30 12:14:57,334 multisense_translate (183) DEBUG 1.0 cigány [['Gypsy', 'Roma'], ['Gypsy'], ['Roma'], ['Rom']]  0.6 72\n",
      "2017-06-30 12:15:02,126 multisense_translate (183) DEBUG 0.6365 javaslat [['suggestion'], ['recommendation']]  1.0 73\n",
      "2017-06-30 12:15:02,606 multisense_translate (183) DEBUG 0.6188 későbbi [['subsequent'], ['latter']]  1.0 74\n",
      "2017-06-30 12:15:02,769 multisense_translate (183) DEBUG 1.0 vállalkozás [['venture', 'undertaking'], ['venture'], ['undertaking'], ['proposition'], ['enterprise']]  1.0 75\n",
      "2017-06-30 12:15:03,739 multisense_translate (183) DEBUG 0.6683 csökken [['decrease'], ['lessen']]  0.67 76\n",
      "2017-06-30 12:15:03,902 multisense_translate (183) DEBUG 0.2575 szín [['suit'], ['shed'], ['flush']]  1.0 77\n",
      "2017-06-30 12:15:05,462 multisense_translate (183) DEBUG 0.6763 kellemes [['pleasing'], ['pleasant']]  0.5 78\n",
      "2017-06-30 12:15:05,627 multisense_translate (183) DEBUG 0.1368 megelőző [['preventative', 'preventive'], ['preceding'], ['anterior']]  0.57 79\n",
      "2017-06-30 12:15:06,777 multisense_translate (183) DEBUG 0.525 szokásos [['usual'], ['ordinary']]  1.0 80\n",
      "2017-06-30 12:15:07,606 multisense_translate (183) DEBUG 0.3938 állandóan [['steadily'], ['permanently'], ['constantly']]  1.0 81\n",
      "2017-06-30 12:15:07,942 multisense_translate (183) DEBUG 0.1761 hatalom [['leverage'], ['empire']]  0.33 82\n",
      "2017-06-30 12:15:09,129 multisense_translate (183) DEBUG 0.2761 eszköz [['gadget'], ['instrument']]  0.5 83\n",
      "2017-06-30 12:15:09,471 multisense_translate (183) DEBUG 0.2107 üres [['vacant'], ['blank'], ['hollow']]  1.0 84\n",
      "2017-06-30 12:15:11,054 multisense_translate (183) DEBUG 0.6826 bármikor [['whenever'], ['anytime']]  1.0 85\n",
      "2017-06-30 12:15:12,614 multisense_translate (183) DEBUG 0.3533 sötét [['darkness'], ['dismal']]  0.5 86\n",
      "2017-06-30 12:15:13,320 multisense_translate (183) DEBUG 0.5053 előadás [['lecture'], ['presenting'], ['rendering']]  0.75 87\n",
      "2017-06-30 12:15:14,032 multisense_translate (183) DEBUG 0.7124 lélek [['soul'], ['spirit'], ['ghost']]  1.0 88\n",
      "2017-06-30 12:15:14,212 multisense_translate (183) DEBUG 0.418 vállalat [['corporation'], ['undertaking'], ['enterprise']]  1.0 89\n",
      "2017-06-30 12:15:15,107 multisense_translate (183) DEBUG 0.45 ellenőrzés [['supervision'], ['inspection'], ['examination']]  1.0 90\n",
      "2017-06-30 12:15:17,437 multisense_translate (183) DEBUG 1.0 kiállítás [['exhibit', 'exhibition'], ['exhibit'], ['exhibition']]  0.67 91\n",
      "2017-06-30 12:15:17,621 multisense_translate (183) DEBUG 0.2975 világos [['bright'], ['articulate']]  1.0 92\n",
      "2017-06-30 12:15:17,988 multisense_translate (183) DEBUG 1.0 megbízható [['reliable', 'dependable'], ['reliable'], ['trustworthy']]  1.0 93\n",
      "2017-06-30 12:15:18,176 multisense_translate (183) DEBUG 0.5405 boldog [['blessed'], ['joyous']]  0.67 94\n",
      "2017-06-30 12:15:19,105 multisense_translate (183) DEBUG 0.09018 kör [['sphere'], ['lap'], ['compass'], ['circle']]  0.67 95\n",
      "2017-06-30 12:15:19,295 multisense_translate (183) DEBUG 0.3832 kutatás [['exploration'], ['investigation'], ['quest']]  0.75 96\n",
      "2017-06-30 12:15:19,672 multisense_translate (183) DEBUG 0.8517 emberiség [['humanity'], ['mankind']]  1.0 97\n",
      "2017-06-30 12:15:21,195 multisense_translate (183) DEBUG 1.0 értékes [['precious', 'valuable'], ['precious'], ['valuable']]  1.0 98\n",
      "2017-06-30 12:15:23,590 multisense_translate (183) DEBUG 0.181 megfelel [['suit'], ['correspond']]  1.0 99\n",
      "2017-06-30 12:15:24,169 multisense_translate (183) DEBUG 0.2492 kötelezettség [['engagement'], ['tie'], ['obligation']]  1.0 100\n",
      "2017-06-30 12:15:24,560 multisense_translate (183) DEBUG 0.753 csodálatos [['delightful'], ['marvelous']]  1.0 101\n",
      "2017-06-30 12:15:27,723 multisense_translate (183) DEBUG 0.2871 szigorú [['stern', 'strict'], ['severe'], ['stern'], ['strict']]  0.75 102\n",
      "2017-06-30 12:15:27,927 multisense_translate (183) DEBUG 0.3212 tartós [['durable'], ['substantial']]  1.0 103\n",
      "2017-06-30 12:15:31,810 multisense_translate (183) DEBUG 1.0 szomszédos [['neighboring', 'neighbouring'], ['neighboring'], ['neighbour'], ['adjacent'], ['neighbouring']]  0.8 104\n",
      "2017-06-30 12:15:32,018 multisense_translate (183) DEBUG 0.3633 átmeneti [['temporary'], ['transitional']]  1.0 105\n",
      "2017-06-30 12:15:32,638 multisense_translate (183) DEBUG 0.2616 vállalkozó [['contractor'], ['entrepreneur']]  1.0 106\n",
      "2017-06-30 12:15:33,050 multisense_translate (183) DEBUG 0.4359 jelölt [['applicant'], ['candidate'], ['nominee']]  1.0 107\n",
      "2017-06-30 12:15:35,746 multisense_translate (183) DEBUG 0.4472 bíró [['judge'], ['referee']]  1.0 108\n",
      "2017-06-30 12:15:35,956 multisense_translate (183) DEBUG 0.4545 lényeg [['substance'], ['essence']]  0.67 109\n",
      "2017-06-30 12:15:37,004 multisense_translate (183) DEBUG 0.1512 hátsó [['hinder'], ['rear']]  1.0 110\n",
      "2017-06-30 12:15:37,425 multisense_translate (183) DEBUG 0.3123 ég [['sky'], ['burn'], ['heaven'], ['heavens']]  1.0 111\n",
      "2017-06-30 12:15:38,480 multisense_translate (183) DEBUG 0.05436 villamos [['electro'], ['tram']]  0.5 112\n",
      "2017-06-30 12:15:39,120 multisense_translate (183) DEBUG 0.5022 érzés [['emotion'], ['sentiment']]  1.0 113\n",
      "2017-06-30 12:15:41,007 multisense_translate (183) DEBUG 0.2028 piros [['hearts'], ['rot']]  1.0 114\n",
      "2017-06-30 12:15:41,868 multisense_translate (183) DEBUG 1.0 furcsa [['odd', 'strange'], ['odd', 'peculiar'], ['odd'], ['queer'], ['bizarre'], ['peculiar'], ['strange']]  1.0 115\n",
      "2017-06-30 12:15:43,828 multisense_translate (183) DEBUG 0.3417 szoros [['tight'], ['strict']]  0.67 116\n",
      "2017-06-30 12:15:44,927 multisense_translate (183) DEBUG 0.4504 titkos [['secret'], ['confidential']]  1.0 117\n",
      "2017-06-30 12:15:46,618 multisense_translate (183) DEBUG 1.0 eladó [['vendor', 'salesman'], ['vendor'], ['salesman']]  0.5 118\n",
      "2017-06-30 12:15:46,840 multisense_translate (183) DEBUG 0.3219 ábra [['graph'], ['illustration']]  1.0 119\n",
      "2017-06-30 12:15:47,063 multisense_translate (183) DEBUG 0.343 származik [['arise'], ['stem'], ['originate']]  0.75 120\n",
      "2017-06-30 12:15:48,004 multisense_translate (183) DEBUG 0.3252 rendes [['orderly'], ['usual'], ['neat'], ['ordinary']]  1.0 121\n",
      "2017-06-30 12:15:51,157 multisense_translate (183) DEBUG 0.4883 szövetség [['coalition', 'alliance'], ['union'], ['coalition'], ['alliance']]  0.75 122\n",
      "2017-06-30 12:15:52,633 multisense_translate (183) DEBUG 0.4463 alkotó [['creator', 'creative'], ['composer'], ['creator'], ['constituent'], ['creative']]  1.0 123\n",
      "2017-06-30 12:15:52,866 multisense_translate (183) DEBUG 0.4673 szűk [['tight'], ['narrow']]  1.0 124\n"
     ]
    },
    {
     "name": "stderr",
     "output_type": "stream",
     "text": [
      "2017-06-30 12:15:53,328 multisense_translate (183) DEBUG 0.2438 szánt [['till'], ['ear']]  0.67 125\n",
      "2017-06-30 12:15:53,792 multisense_translate (183) DEBUG 0.1873 induló [['march'], ['candidate']]  1.0 126\n",
      "2017-06-30 12:15:54,491 multisense_translate (183) DEBUG 0.4858 önkéntes [['voluntary'], ['volunteer']]  1.0 127\n",
      "2017-06-30 12:15:54,725 multisense_translate (183) DEBUG 0.3575 vallás [['disciple'], ['religion']]  1.0 128\n",
      "2017-06-30 12:15:58,312 multisense_translate (183) DEBUG 1.0 hibás [['defective', 'faulty'], ['defective'], ['faulty']]  1.0 129\n",
      "2017-06-30 12:15:58,551 multisense_translate (183) DEBUG 0.4062 drága [['precious'], ['expensive'], ['dear']]  1.0 130\n",
      "2017-06-30 12:15:58,790 multisense_translate (183) DEBUG 1.0 kezdő [['beginner', 'newbie'], ['beginner', 'novice'], ['novice'], ['rookie'], ['beginner'], ['newbie']]  1.0 131\n",
      "2017-06-30 12:16:00,220 multisense_translate (183) DEBUG 0.7533 káros [['damaging', 'harmful'], ['detrimental', 'damaging'], ['damaging'], ['harmful']]  1.0 132\n",
      "2017-06-30 12:16:01,188 multisense_translate (183) DEBUG 0.3283 forgalom [['turnover'], ['circulation']]  1.0 133\n",
      "2017-06-30 12:16:01,433 multisense_translate (183) DEBUG 0.7947 kár [['pity'], ['shame']]  1.0 134\n",
      "2017-06-30 12:16:02,648 multisense_translate (183) DEBUG 0.4588 megszokott [['usual'], ['accustomed']]  0.67 135\n",
      "2017-06-30 12:16:04,626 multisense_translate (183) DEBUG 0.5289 ülés [['sitting'], ['seat'], ['assembly']]  1.0 136\n",
      "2017-06-30 12:16:08,351 multisense_translate (183) DEBUG 0.5284 szempont [['regard'], ['viewpoint'], ['standpoint'], ['angle'], ['aspect']]  1.0 137\n",
      "2017-06-30 12:16:10,601 multisense_translate (183) DEBUG 0.4889 hír [['reputation'], ['fame']]  1.0 138\n",
      "2017-06-30 12:16:11,107 multisense_translate (183) DEBUG 1.0 anya [['mummy', 'mum'], ['mummy'], ['mum']]  1.0 139\n",
      "2017-06-30 12:16:11,870 multisense_translate (183) DEBUG 0.4058 ritka [['sparse'], ['odd'], ['rare'], ['scarce']]  1.0 140\n",
      "2017-06-30 12:16:13,660 multisense_translate (183) DEBUG 0.2574 mutató [['needle'], ['pointer']]  1.0 141\n",
      "2017-06-30 12:16:13,919 multisense_translate (183) DEBUG 0.4622 alapos [['substantial'], ['thorough']]  1.0 142\n",
      "2017-06-30 12:16:16,191 multisense_translate (183) DEBUG 0.2206 bemutató [['presenter'], ['exhibition'], ['premiere']]  1.0 143\n",
      "2017-06-30 12:16:16,451 multisense_translate (183) DEBUG 1.0 hamis [['counterfeit', 'fake'], ['counterfeit'], ['fake']]  0.67 144\n",
      "2017-06-30 12:16:19,045 multisense_translate (183) DEBUG 0.3625 szokás [['usage'], ['habit']]  1.0 145\n",
      "2017-06-30 12:16:21,887 multisense_translate (183) DEBUG 0.5538 bűn [['sin'], ['guilt']]  1.0 146\n",
      "2017-06-30 12:16:22,688 multisense_translate (183) DEBUG 0.5436 írásos [['graphic'], ['graphical']]  1.0 147\n",
      "2017-06-30 12:16:23,227 multisense_translate (183) DEBUG 0.4562 szomorú [['sad'], ['dismal']]  0.5 148\n",
      "2017-06-30 12:16:24,035 multisense_translate (183) DEBUG 1.0 mélyen [['profoundly', 'deeply'], ['profoundly'], ['deeply']]  1.0 149\n",
      "2017-06-30 12:16:24,307 multisense_translate (183) DEBUG 0.3976 tűz [['pin'], ['stitch']]  1.0 150\n",
      "2017-06-30 12:16:24,579 multisense_translate (183) DEBUG 1.0 érthető [['understandable', 'articulate'], ['understandable'], ['articulate']]  0.5 151\n",
      "2017-06-30 12:16:27,729 multisense_translate (183) DEBUG 0.4862 adminisztrátor [['administrator'], ['clerk']]  1.0 152\n",
      "2017-06-30 12:16:28,005 multisense_translate (183) DEBUG 1.0 földrajzi [['geographic', 'geographical'], ['geographic'], ['geographical']]  1.0 153\n",
      "2017-06-30 12:16:28,845 multisense_translate (183) DEBUG 0.1008 kar [['arm'], ['choir']]  1.0 154\n",
      "2017-06-30 12:16:29,675 multisense_translate (183) DEBUG 0.2235 lengyel [['Pole'], ['Polish']]  1.0 155\n",
      "2017-06-30 12:16:31,062 multisense_translate (183) DEBUG 0.2203 fekvő [['lying'], ['landscape']]  0.67 156\n",
      "2017-06-30 12:16:33,421 multisense_translate (183) DEBUG 0.5217 noha [['notwithstanding'], ['albeit']]  1.0 157\n",
      "2017-06-30 12:16:33,702 multisense_translate (183) DEBUG 0.8869 színház [['theater', 'theatre'], ['theatre'], ['theater']]  1.0 158\n",
      "2017-06-30 12:16:33,985 multisense_translate (183) DEBUG 0.5645 kerület [['borough', 'ward'], ['township', 'borough'], ['compass'], ['ward'], ['borough'], ['perimeter'], ['circumference'], ['township']]  0.6 159\n",
      "2017-06-30 12:16:36,517 multisense_translate (183) DEBUG 1.0 tilos [['forbidden', 'prohibited'], ['forbidden'], ['prohibited']]  1.0 160\n",
      "2017-06-30 12:16:40,598 multisense_translate (183) DEBUG 1.0 hulladék [['garbage', 'rubbish'], ['garbage', 'trash'], ['litter'], ['rubbish'], ['garbage'], ['trash']]  0.57 161\n",
      "2017-06-30 12:16:42,596 multisense_translate (183) DEBUG 0.7138 nyugodt [['quiet'], ['calm']]  0.67 162\n",
      "2017-06-30 12:16:45,002 multisense_translate (183) DEBUG 0.461 ideiglenes [['temporary'], ['provisional']]  1.0 163\n",
      "2017-06-30 12:16:45,581 multisense_translate (183) DEBUG 0.65 beszélgetés [['conversation'], ['dialogue']]  0.67 164\n",
      "2017-06-30 12:16:46,747 multisense_translate (183) DEBUG 1.0 baleset [['crash', 'accident'], ['crash'], ['accident']]  0.67 165\n",
      "2017-06-30 12:16:47,332 multisense_translate (183) DEBUG 1.0 szemét [['garbage', 'rubbish'], ['garbage', 'trash'], ['litter'], ['rubbish'], ['garbage'], ['trash']]  0.57 166\n",
      "2017-06-30 12:16:47,918 multisense_translate (183) DEBUG 0.5954 utazás [['journey', 'traveling'], ['traveling', 'travelling'], ['traveling'], ['journey'], ['voyage'], ['travelling']]  1.0 167\n",
      "2017-06-30 12:16:49,751 multisense_translate (183) DEBUG 0.534 csoda [['wonder'], ['miracle'], ['marvel']]  0.75 168\n",
      "2017-06-30 12:16:50,638 multisense_translate (183) DEBUG 0.2948 vagyon [['wealth', 'fortune'], ['substance'], ['wealth'], ['fortune']]  1.0 169\n",
      "2017-06-30 12:16:50,936 multisense_translate (183) DEBUG 0.7302 öröm [['delight'], ['joy']]  1.0 170\n",
      "2017-06-30 12:16:51,533 multisense_translate (183) DEBUG 0.5293 törvényes [['lawful'], ['statutory']]  0.67 171\n",
      "2017-06-30 12:16:51,832 multisense_translate (183) DEBUG 0.5709 nyilvánvalóan [['obviously'], ['plainly']]  1.0 172\n",
      "2017-06-30 12:16:52,132 multisense_translate (183) DEBUG 0.364 egyenes [['frank'], ['straightforward'], ['linear']]  1.0 173\n",
      "2017-06-30 12:16:52,433 multisense_translate (183) DEBUG 0.06544 sorozat [['succession'], ['serial'], ['suite']]  1.0 174\n",
      "2017-06-30 12:16:53,030 multisense_translate (183) DEBUG 0.2639 közepes [['mediocre'], ['moderate']]  0.67 175\n",
      "2017-06-30 12:16:53,631 multisense_translate (183) DEBUG 0.5867 vers [['poem'], ['rhyme']]  1.0 176\n",
      "2017-06-30 12:16:55,478 multisense_translate (183) DEBUG 0.187 nemes [['peer'], ['noble'], ['sublime']]  1.0 177\n",
      "2017-06-30 12:16:56,084 multisense_translate (183) DEBUG 0.3544 nyilvánvaló [['evident', 'apparent'], ['plain'], ['trivial'], ['evident'], ['apparent']]  0.67 178\n",
      "2017-06-30 12:16:56,694 multisense_translate (183) DEBUG 1.0 kifejezés [['phrase', 'phrases'], ['phrase'], ['phrases']]  0.67 179\n",
      "2017-06-30 12:16:58,218 multisense_translate (183) DEBUG 0.7241 teljesítmény [['achievement', 'accomplishment'], ['accomplishment'], ['achievement'], ['efficiency']]  1.0 180\n",
      "2017-06-30 12:16:58,827 multisense_translate (183) DEBUG 0.6885 állít [['declare'], ['assert']]  0.67 181\n",
      "2017-06-30 12:17:01,003 multisense_translate (183) DEBUG 1.0 etikai [['ethical', 'ethic'], ['ethical'], ['ethic']]  1.0 182\n",
      "2017-06-30 12:17:01,929 multisense_translate (183) DEBUG 0.1934 eltérés [['departure'], ['variance']]  0.4 183\n",
      "2017-06-30 12:17:04,096 multisense_translate (183) DEBUG 0.3511 gonosz [['wicked'], ['malicious'], ['evil'], ['villain']]  1.0 184\n",
      "2017-06-30 12:17:06,593 multisense_translate (183) DEBUG 0.6013 jellegzetes [['typical'], ['characteristic']]  1.0 185\n",
      "2017-06-30 12:17:09,117 multisense_translate (183) DEBUG 1.0 uralkodó [['ruler', 'prince'], ['ruler', 'sovereign'], ['sovereign'], ['ruler'], ['ruling'], ['prince']]  0.67 186\n",
      "2017-06-30 12:17:09,436 multisense_translate (183) DEBUG 0.3515 vékony [['thin'], ['sheer']]  0.67 187\n",
      "2017-06-30 12:17:12,267 multisense_translate (183) DEBUG 0.2733 követ [['haunt'], ['succeed']]  0.67 188\n",
      "2017-06-30 12:17:12,909 multisense_translate (183) DEBUG 0.3746 védelem [['shield'], ['defense']]  0.67 189\n",
      "2017-06-30 12:17:14,517 multisense_translate (183) DEBUG 0.4616 emelkedik [['lift'], ['climb'], ['tower']]  0.5 190\n"
     ]
    },
    {
     "name": "stderr",
     "output_type": "stream",
     "text": [
      "2017-06-30 12:17:18,352 multisense_translate (183) DEBUG 0.3077 illő [['pertinent'], ['suitable']]  1.0 191\n",
      "2017-06-30 12:17:24,191 multisense_translate (183) DEBUG 0.4651 Judit [['Jodi'], ['Jody']]  0.4 192\n",
      "2017-06-30 12:17:26,514 multisense_translate (183) DEBUG 0.2879 helyettes [['substitute'], ['assistant']]  1.0 193\n",
      "2017-06-30 12:17:27,179 multisense_translate (183) DEBUG 0.4196 őszinte [['sincere', 'frank'], ['frank'], ['honest'], ['sincere']]  1.0 194\n",
      "2017-06-30 12:17:28,762 multisense_translate (183) DEBUG 1.0 szerencsés [['fortunate', 'lucky'], ['fortunate'], ['lucky']]  1.0 195\n",
      "2017-06-30 12:17:29,770 multisense_translate (183) DEBUG 0.5073 édes [['sweetheart'], ['sweet']]  0.67 196\n",
      "2017-06-30 12:17:32,136 multisense_translate (183) DEBUG 1.0 boldogság [['bliss', 'happiness'], ['bliss'], ['happiness'], ['delight']]  0.75 197\n",
      "2017-06-30 12:17:34,404 multisense_translate (183) DEBUG 0.228 tömeg [['cloud'], ['crowd'], ['mob'], ['bulk']]  1.0 198\n",
      "2017-06-30 12:17:36,116 multisense_translate (183) DEBUG 0.4128 szellem [['spirit'], ['ghost']]  1.0 199\n",
      "2017-06-30 12:17:36,461 multisense_translate (183) DEBUG 0.3079 puszta [['plain', 'bleak'], ['mere'], ['pure'], ['plain'], ['sheer'], ['bleak']]  0.56 200\n",
      "2017-06-30 12:17:36,805 multisense_translate (183) DEBUG 0.5464 érzékeny [['susceptible'], ['sensitive'], ['raw']]  1.0 201\n",
      "2017-06-30 12:17:40,118 multisense_translate (183) DEBUG 0.3575 sérült [['traumatic'], ['damaged']]  1.0 202\n",
      "2017-06-30 12:17:40,810 multisense_translate (183) DEBUG 0.6046 utólag [['afterwards'], ['subsequently']]  0.67 203\n",
      "2017-06-30 12:17:42,197 multisense_translate (183) DEBUG 0.3486 utas [['fare'], ['passenger']]  1.0 204\n",
      "2017-06-30 12:17:43,232 multisense_translate (183) DEBUG 0.2237 környező [['ambient'], ['surrounding']]  0.67 205\n",
      "2017-06-30 12:17:43,581 multisense_translate (183) DEBUG 0.1218 áru [['ware'], ['cargo'], ['merchandise']]  1.0 206\n",
      "2017-06-30 12:17:45,526 multisense_translate (183) DEBUG 0.4975 határ [['boundary'], ['border'], ['frontier']]  1.0 207\n",
      "2017-06-30 12:17:46,230 multisense_translate (183) DEBUG 1.0 lakott [['inhabited', 'populated'], ['inhabited'], ['populated']]  0.67 208\n",
      "2017-06-30 12:17:46,584 multisense_translate (183) DEBUG 0.0584 terem [['hall'], ['yield'], ['classroom']]  1.0 209\n",
      "2017-06-30 12:17:47,640 multisense_translate (183) DEBUG 1.0 erdő [['woods', 'forest'], ['woods'], ['forest']]  0.67 210\n",
      "2017-06-30 12:17:53,153 multisense_translate (183) DEBUG 0.1926 szakértő [['judge'], ['adept'], ['adviser']]  0.43 211\n",
      "2017-06-30 12:17:53,872 multisense_translate (183) DEBUG 0.2429 készít [['manufacture'], ['prepare']]  1.0 212\n",
      "2017-06-30 12:17:57,648 multisense_translate (183) DEBUG 0.5794 tanítás [['lesson'], ['instruction'], ['tuition']]  1.0 213\n",
      "2017-06-30 12:17:58,376 multisense_translate (183) DEBUG 0.3988 halálos [['mortal'], ['lethal']]  0.67 214\n",
      "2017-06-30 12:17:58,741 multisense_translate (183) DEBUG 1.0 hivatalosan [['officially', 'formally'], ['officially'], ['formally']]  1.0 215\n",
      "2017-06-30 12:17:59,829 multisense_translate (183) DEBUG 0.8952 szándékosan [['deliberately'], ['intentionally']]  0.67 216\n",
      "2017-06-30 12:18:00,194 multisense_translate (183) DEBUG 0.4014 versenyző [['contestant'], ['competitor']]  1.0 217\n",
      "2017-06-30 12:18:03,258 multisense_translate (183) DEBUG 0.5081 szürke [['gray', 'grey'], ['dusty'], ['gray'], ['grey']]  1.0 218\n",
      "2017-06-30 12:18:04,352 multisense_translate (183) DEBUG 0.667 bizonytalan [['uncertain'], ['unsure']]  1.0 219\n",
      "2017-06-30 12:18:05,085 multisense_translate (183) DEBUG 0.5725 rugalmas [['resilient'], ['flexible']]  0.5 220\n",
      "2017-06-30 12:18:05,454 multisense_translate (183) DEBUG 0.333 bír [['possess'], ['bear']]  1.0 221\n",
      "2017-06-30 12:18:07,439 multisense_translate (183) DEBUG 0.6209 mostanában [['nowadays'], ['lately']]  1.0 222\n",
      "2017-06-30 12:18:07,810 multisense_translate (183) DEBUG 0.2515 előbbi [['preceding'], ['anterior']]  0.67 223\n",
      "2017-06-30 12:18:09,280 multisense_translate (183) DEBUG 0.4362 köt [['tie'], ['knit'], ['bind']]  1.0 224\n",
      "2017-06-30 12:18:09,652 multisense_translate (183) DEBUG 0.3849 készülék [['appliance'], ['apparatus']]  0.67 225\n",
      "2017-06-30 12:18:10,760 multisense_translate (183) DEBUG 1.0 hiány [['deficiency', 'shortage'], ['deficiency'], ['shortage'], ['poverty']]  0.75 226\n",
      "2017-06-30 12:18:12,750 multisense_translate (183) DEBUG 1.0 számla [['receipt', 'invoice'], ['receipt'], ['invoice']]  1.0 227\n",
      "2017-06-30 12:18:13,123 multisense_translate (183) DEBUG 0.4688 csendes [['silent'], ['calm'], ['quiet']]  1.0 228\n",
      "2017-06-30 12:18:13,869 multisense_translate (183) DEBUG 0.5356 nagymértékben [['substantially'], ['greatly']]  0.67 229\n",
      "2017-06-30 12:18:14,242 multisense_translate (155) INFO prec after testing on 1000 words: 74.300000% (good_disambig: 229)\n"
     ]
    },
    {
     "name": "stdout",
     "output_type": "stream",
     "text": [
      "74.3% 229\n"
     ]
    }
   ],
   "source": [
    "sims = MultiSenseLinearTranslator().main()"
   ]
  },
  {
   "cell_type": "code",
   "execution_count": 3,
   "metadata": {},
   "outputs": [
    {
     "data": {
      "text/plain": [
       "229"
      ]
     },
     "execution_count": 3,
     "metadata": {},
     "output_type": "execute_result"
    }
   ],
   "source": [
    "len(sims)"
   ]
  },
  {
   "cell_type": "code",
   "execution_count": 6,
   "metadata": {},
   "outputs": [
    {
     "data": {
      "text/plain": [
       "(array([ 10.,   6.,  14.,  16.,  27.,  27.,  28.,  18.,  13.,  12.,  11.,\n",
       "          7.,   2.,   2.,  36.]),\n",
       " array([ 0.04071179,  0.10466434,  0.16861689,  0.23256944,  0.29652198,\n",
       "         0.36047453,  0.42442708,  0.48837962,  0.55233217,  0.61628472,\n",
       "         0.68023726,  0.74418981,  0.80814236,  0.87209491,  0.93604745,  1.        ]),\n",
       " <a list of 15 Patch objects>)"
      ]
     },
     "execution_count": 6,
     "metadata": {},
     "output_type": "execute_result"
    },
    {
     "data": {
      "image/png": "[encoded data removed]",
      "text/plain": [
       "<matplotlib.figure.Figure at 0x7f6b12495160>"
      ]
     },
     "metadata": {},
     "output_type": "display_data"
    }
   ],
   "source": [
    "plt.hist(sims, bins=15)"
   ]
  }
 ],
 "metadata": {
  "kernelspec": {
   "display_name": "Python 3",
   "language": "python",
   "name": "python3"
  },
  "language_info": {
   "codemirror_mode": {
    "name": "ipython",
    "version": 3
   },
   "file_extension": ".py",
   "mimetype": "text/x-python",
   "name": "python",
   "nbconvert_exporter": "python",
   "pygments_lexer": "ipython3",
   "version": "3.4.2"
  }
 },
 "nbformat": 4,
 "nbformat_minor": 2
}
