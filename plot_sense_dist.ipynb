{
 "cells": [
  {
   "cell_type": "code",
   "execution_count": 1,
   "metadata": {},
   "outputs": [
    {
     "name": "stdout",
     "output_type": "stream",
     "text": [
      "Populating the interactive namespace from numpy and matplotlib\n"
     ]
    }
   ],
   "source": [
    "from matplotlib import pyplot as plt\n",
    "%matplotlib inline\n",
    "%pylab inline\n",
    "pylab.rcParams['figure.figsize'] = (15, 6)\n",
    "\n",
    "from multisense_translate import MultiSenseLinearTranslator\n"
   ]
  },
  {
   "cell_type": "code",
   "execution_count": 2,
   "metadata": {},
   "outputs": [
    {
     "name": "stderr",
     "output_type": "stream",
     "text": [
      "2017-06-26 16:25:02,951 utils (267) INFO loading KeyedVectors object from /mnt/permanent/Language/English/Embed/glove.840B.300d.gensim\n",
      "2017-06-26 16:25:07,403 utils (294) INFO loading syn0 from /mnt/permanent/Language/English/Embed/glove.840B.300d.gensim.syn0.npy with mmap=None\n",
      "2017-06-26 16:25:07,980 utils (326) INFO setting ignored attribute syn0norm to None\n",
      "2017-06-26 16:25:07,983 utils (273) INFO loaded /mnt/permanent/Language/English/Embed/glove.840B.300d.gensim\n",
      "2017-06-26 16:25:08,041 multisense_translate (68) INFO Trained on 5000 words\n",
      "2017-06-26 16:25:08,386 multisense_translate (198) INFO Testing...\n",
      "2017-06-26 16:25:08,424 multisense_translate (144) INFO Reading source mx from /mnt/permanent/Language/Hungarian/Embed/multiprot/adagram/mnsz/adagram-mnsz-600d-a.05-5p-m100_sense.mse...\n",
      "2017-06-26 16:25:16,820 multisense_translate (154) INFO Source vocab and mx read (16384, 600)\n",
      "2017-06-26 16:25:25,227 multisense_translate (158) INFO Populating reverse neighbor rank mx...\n",
      "2017-06-26 16:25:49,152 multisense_translate (172) DEBUG 100.0% of reverse neighbor rank mx populated, uint16 (16384, 10000)\n",
      "2017-06-26 16:25:49,500 multisense_translate (175) DEBUG Min ranks: [  5  53 105 ...,   0   2  62]\n",
      "2017-06-26 16:25:56,612 multisense_translate (202) DEBUG skipping header: 268344 600\n",
      "2017-06-26 16:25:56,873 multisense_translate (129) DEBUG 0.666128294695043 legnagyobb [['biggest'], ['greatest']]  1\n",
      "2017-06-26 16:25:56,939 multisense_translate (129) DEBUG 0.5528521936872752 megfelelő [['adequate'], ['suitable']]  2\n",
      "2017-06-26 16:25:56,957 multisense_translate (129) DEBUG 1.0 miniszter [['minister', 'secretary'], ['minister']]  3\n",
      "2017-06-26 16:25:57,041 multisense_translate (129) DEBUG 0.4269128900159865 közös [['mutual'], ['collective']]  4\n",
      "2017-06-26 16:25:57,061 multisense_translate (129) DEBUG 0.8618362189566235 alá [['beneath'], ['underneath']]  5\n",
      "2017-06-26 16:25:57,373 multisense_translate (129) DEBUG 0.29363929940835265 sor [['rank'], ['row']]  6\n",
      "2017-06-26 16:25:57,448 multisense_translate (129) DEBUG 0.6720872146496316 csupán [['mere'], ['merely']]  7\n",
      "2017-06-26 16:25:57,544 multisense_translate (129) DEBUG 1.0 fő [['principal', 'prime'], ['principal'], ['prime']]  8\n",
      "2017-06-26 16:25:57,615 multisense_translate (129) DEBUG 0.37574594753409063 külön [['apart'], ['separately']]  9\n",
      "2017-06-26 16:25:57,740 multisense_translate (129) DEBUG 0.7280783443940329 pontosan [['precisely'], ['accurately']]  10\n",
      "2017-06-26 16:25:57,907 multisense_translate (129) DEBUG 0.48366059511425125 belső [['inner'], ['interior']]  11\n",
      "2017-06-26 16:25:58,277 multisense_translate (129) DEBUG 0.9999999999999996 javaslat [['recommendation', 'suggestion'], ['recommendation'], ['suggestion']]  12\n",
      "2017-06-26 16:25:58,890 multisense_translate (129) DEBUG 1.0 folyamatosan [['continually', 'continuously'], ['continually'], ['continuously']]  13\n",
      "2017-06-26 16:25:59,048 multisense_translate (129) DEBUG 1.0 főleg [['mainly', 'mostly'], ['mainly'], ['mostly']]  14\n",
      "2017-06-26 16:25:59,143 multisense_translate (129) DEBUG 1.0 hatalmas [['enormous', 'massive', 'vast', 'tremendous'], ['enormous', 'tremendous'], ['enormous', 'massive'], ['massive', 'tremendous'], ['vast'], ['massive']]  15\n",
      "2017-06-26 16:25:59,460 multisense_translate (129) DEBUG 0.5085472855465543 látható [['visible'], ['apparent']]  16\n",
      "2017-06-26 16:26:00,264 multisense_translate (129) DEBUG 0.5268214920882717 kedves [['dear'], ['lover'], ['lovely']]  17\n",
      "2017-06-26 16:26:00,294 multisense_translate (129) DEBUG 0.9999999999999998 terület [['territory', 'grounds'], ['territory'], ['grounds']]  18\n",
      "2017-06-26 16:26:00,416 multisense_translate (129) DEBUG 0.5020452564675806 alapvető [['fundamental'], ['substantial']]  19\n",
      "2017-06-26 16:26:02,380 multisense_translate (129) DEBUG 0.1950053755734953 csökkent [['sink'], ['decrease']]  20\n",
      "2017-06-26 16:26:03,085 multisense_translate (129) DEBUG 0.3664508964724547 számít [['calculate'], ['rely']]  21\n",
      "2017-06-26 16:26:03,811 multisense_translate (129) DEBUG 0.9999999999999996 Katalin [['Kate', 'Catherine', 'Katie'], ['Kate', 'Catherine']]  22\n",
      "2017-06-26 16:26:03,889 multisense_translate (129) DEBUG 0.6012760780792252 jellemző [['characteristic', 'typical'], ['typical']]  23\n",
      "2017-06-26 16:26:04,045 multisense_translate (129) DEBUG 0.2964985340275398 ház [['chamber'], ['shell']]  24\n",
      "2017-06-26 16:26:04,205 multisense_translate (129) DEBUG 1.0 óriási [['enormous', 'vast'], ['enormous'], ['vast'], ['awesome']]  25\n",
      "2017-06-26 16:26:04,250 multisense_translate (129) DEBUG 0.4722769096524613 vizsgálat [['examination'], ['inquiry']]  26\n",
      "2017-06-26 16:26:04,571 multisense_translate (129) DEBUG 0.4058196370016387 gyors [['rapid'], ['prompt']]  27\n",
      "2017-06-26 16:26:04,612 multisense_translate (129) DEBUG 0.5094209105754619 darab [['slice'], ['cake']]  28\n",
      "2017-06-26 16:26:05,978 multisense_translate (129) DEBUG 0.40349478803952243 valódi [['genuine'], ['substantial']]  29\n",
      "2017-06-26 16:26:06,063 multisense_translate (129) DEBUG 0.28065695254690587 sorozat [['serial'], ['suite']]  30\n",
      "2017-06-26 16:26:06,321 multisense_translate (129) DEBUG 0.6188183455619958 későbbi [['latter'], ['subsequent']]  31\n",
      "2017-06-26 16:26:07,492 multisense_translate (129) DEBUG 0.732789829314709 hirtelen [['suddenly'], ['sudden']]  32\n",
      "2017-06-26 16:26:07,662 multisense_translate (129) DEBUG 1.0 alapvetően [['essentially', 'basically'], ['essentially'], ['basically']]  33\n",
      "2017-06-26 16:26:07,732 multisense_translate (129) DEBUG 0.7740735740467066 beteg [['sick', 'ill'], ['ill']]  34\n",
      "2017-06-26 16:26:10,825 multisense_translate (129) DEBUG 1.0 idegen [['strange', 'alien'], ['strange'], ['alien']]  35\n",
      "2017-06-26 16:26:10,859 multisense_translate (129) DEBUG 0.6309256497448913 Anna [['Anne'], ['Anna']]  36\n",
      "2017-06-26 16:26:12,216 multisense_translate (129) DEBUG 0.22026181998963212 fekvő [['landscape'], ['lying']]  37\n",
      "2017-06-26 16:26:12,324 multisense_translate (129) DEBUG 0.4406567560938365 együttműködés [['interaction'], ['collaboration'], ['cooperation']]  38\n",
      "2017-06-26 16:26:12,396 multisense_translate (129) DEBUG 0.513950189491427 föld [['soil'], ['dirt']]  39\n",
      "2017-06-26 16:26:12,721 multisense_translate (129) DEBUG 0.726498862344394 baleset [['accident', 'crash'], ['crash'], ['accident']]  40\n",
      "2017-06-26 16:26:13,110 multisense_translate (129) DEBUG 1.0 kiváló [['superior', 'outstanding'], ['superior'], ['banner'], ['prime'], ['outstanding']]  41\n",
      "2017-06-26 16:26:13,317 multisense_translate (129) DEBUG 0.39831535586721 foglalt [['occupied'], ['busy']]  42\n",
      "2017-06-26 16:26:13,442 multisense_translate (129) DEBUG 0.4888787590568907 hír [['fame'], ['reputation']]  43\n",
      "2017-06-26 16:26:16,190 multisense_translate (129) DEBUG 0.3549772704802357 von [['drag'], ['draw']]  44\n",
      "2017-06-26 16:26:16,707 multisense_translate (129) DEBUG 0.3763191300900716 gazdag [['wealthy'], ['substantial']]  45\n",
      "2017-06-26 16:26:16,837 multisense_translate (129) DEBUG 0.34304238055491004 származik [['arise'], ['stem']]  46\n",
      "2017-06-26 16:26:17,812 multisense_translate (129) DEBUG 0.32418868888650276 ég [['heaven'], ['burn'], ['sky']]  47\n",
      "2017-06-26 16:26:20,320 multisense_translate (129) DEBUG 0.362432463300303 szigorú [['severe'], ['strict']]  48\n",
      "2017-06-26 16:26:20,417 multisense_translate (129) DEBUG 0.3305515957532686 gyakorlat [['drill'], ['routine']]  49\n",
      "2017-06-26 16:26:20,951 multisense_translate (129) DEBUG 1.0 furcsa [['strange', 'odd'], ['strange'], ['odd']]  50\n",
      "2017-06-26 16:26:21,050 multisense_translate (129) DEBUG 0.9999999999999998 kiállítás [['exhibit', 'exhibition'], ['exhibit'], ['exhibition']]  51\n",
      "2017-06-26 16:26:21,392 multisense_translate (129) DEBUG 0.3362996232039548 kör [['lap'], ['circle']]  52\n",
      "2017-06-26 16:26:21,441 multisense_translate (129) DEBUG 0.5250395018446137 szokásos [['usual'], ['ordinary']]  53\n",
      "2017-06-26 16:26:21,637 multisense_translate (129) DEBUG 0.6153911105890544 hiba [['mistake'], ['fault']]  54\n",
      "2017-06-26 16:26:21,885 multisense_translate (129) DEBUG 0.4952774385434718 rendes [['usual'], ['neat'], ['ordinary']]  55\n",
      "2017-06-26 16:26:24,040 multisense_translate (129) DEBUG 0.521847993646188 ellenőrzés [['examination'], ['inspection']]  56\n",
      "2017-06-26 16:26:24,194 multisense_translate (129) DEBUG 1.0 szent [['holy', 'sacred'], ['holy'], ['sacred']]  57\n"
     ]
    },
    {
     "name": "stderr",
     "output_type": "stream",
     "text": [
      "2017-06-26 16:26:24,298 multisense_translate (129) DEBUG 0.28793587210575344 helyettes [['assistant'], ['substitute']]  58\n",
      "2017-06-26 16:26:25,124 multisense_translate (129) DEBUG 0.1716520987155219 drága [['expensive'], ['dear'], ['precious']]  59\n",
      "2017-06-26 16:26:25,334 multisense_translate (129) DEBUG 0.45448188211358437 lényeg [['substance'], ['essence']]  60\n",
      "2017-06-26 16:26:25,388 multisense_translate (129) DEBUG 0.17916223921198532 erő [['muscle'], ['steam']]  61\n",
      "2017-06-26 16:26:26,384 multisense_translate (129) DEBUG 0.18729247249189807 induló [['candidate'], ['march']]  62\n",
      "2017-06-26 16:26:28,392 multisense_translate (129) DEBUG 0.20467242811111952 ülés [['sitting'], ['assembly']]  63\n",
      "2017-06-26 16:26:28,887 multisense_translate (129) DEBUG 1.0 szabadság [['liberty', 'independence'], ['liberty'], ['independence']]  64\n",
      "2017-06-26 16:26:28,944 multisense_translate (129) DEBUG 1.0000000000000002 nyilvánvaló [['obvious', 'apparent'], ['obvious'], ['plain'], ['evident'], ['apparent']]  65\n",
      "2017-06-26 16:26:29,894 multisense_translate (129) DEBUG 1.0000000000000002 színház [['theatre', 'theater'], ['theatre'], ['theater']]  66\n",
      "2017-06-26 16:26:30,800 multisense_translate (129) DEBUG 0.9999999999999996 ritka [['odd', 'rare'], ['odd'], ['rare']]  67\n",
      "2017-06-26 16:26:33,039 multisense_translate (129) DEBUG 0.29484690479479514 vagyon [['wealth', 'fortune'], ['substance'], ['fortune'], ['wealth']]  68\n",
      "2017-06-26 16:26:33,336 multisense_translate (129) DEBUG 0.3984898335350925 lakás [['residence'], ['quarters']]  69\n",
      "2017-06-26 16:26:37,166 multisense_translate (129) DEBUG 1.0 bemutató [['exhibition', 'premiere'], ['exhibition'], ['premiere']]  70\n",
      "2017-06-26 16:26:37,725 multisense_translate (129) DEBUG 0.46163132986277833 emelkedik [['climb'], ['lift'], ['tower']]  71\n",
      "2017-06-26 16:26:38,348 multisense_translate (129) DEBUG 1.0 ügyvéd [['attorney', 'lawyer'], ['attorney'], ['advocate'], ['lawyer']]  72\n",
      "2017-06-26 16:26:38,853 multisense_translate (129) DEBUG 0.40929190094280943 kutatás [['quest'], ['exploration']]  73\n",
      "2017-06-26 16:26:40,484 multisense_translate (129) DEBUG 0.6826346065009259 bármikor [['anytime'], ['whenever']]  74\n",
      "2017-06-26 16:26:40,869 multisense_translate (129) DEBUG 0.5053069294224583 előadás [['lecture'], ['presenting']]  75\n",
      "2017-06-26 16:26:41,318 multisense_translate (129) DEBUG 0.321170463254947 tartós [['durable'], ['substantial']]  76\n",
      "2017-06-26 16:26:42,557 multisense_translate (129) DEBUG 0.19381113487567087 bejelentés [['booking'], ['announcement']]  77\n",
      "2017-06-26 16:26:42,690 multisense_translate (129) DEBUG 0.9999999999999998 értékes [['valuable', 'precious'], ['valuable'], ['precious']]  78\n",
      "2017-06-26 16:26:44,474 multisense_translate (129) DEBUG 0.40510838967215923 finom [['tasty', 'delicious'], ['smooth']]  79\n",
      "2017-06-26 16:26:45,009 multisense_translate (129) DEBUG 0.16031415647122121 kötelezettség [['tie'], ['obligation'], ['engagement']]  80\n",
      "2017-06-26 16:26:45,280 multisense_translate (129) DEBUG 0.4622035713551237 alapos [['thorough'], ['substantial']]  81\n",
      "2017-06-26 16:26:45,417 multisense_translate (129) DEBUG 0.22429447391454485 energia [['punch'], ['steam']]  82\n",
      "2017-06-26 16:26:45,891 multisense_translate (129) DEBUG 1.0000000000000002 szerencsés [['fortunate', 'lucky'], ['fortunate'], ['lucky']]  83\n",
      "2017-06-26 16:26:46,096 multisense_translate (129) DEBUG 0.22802170684086226 tömeg [['cloud'], ['crowd'], ['bulk']]  84\n",
      "2017-06-26 16:26:46,642 multisense_translate (129) DEBUG 1.0 színésznő [['actor', 'actress'], ['actor'], ['actress']]  85\n",
      "2017-06-26 16:26:50,413 multisense_translate (129) DEBUG 1.0 lélek [['spirit', 'soul'], ['spirit'], ['soul'], ['ghost']]  86\n",
      "2017-06-26 16:26:50,558 multisense_translate (129) DEBUG 0.6046420662114982 utólag [['subsequently'], ['afterwards']]  87\n",
      "2017-06-26 16:26:50,632 multisense_translate (129) DEBUG 0.37460298724565566 védelem [['defense'], ['shield']]  88\n",
      "2017-06-26 16:26:53,402 multisense_translate (129) DEBUG 0.46919450446412336 demokrata [['Democrat'], ['democratic']]  89\n",
      "2017-06-26 16:26:53,986 multisense_translate (129) DEBUG 0.5779631177134967 vádlott [['accused'], ['defendant']]  90\n",
      "2017-06-26 16:26:57,006 multisense_translate (129) DEBUG 0.8932399264694526 szemét [['trash', 'garbage'], ['garbage']]  91\n",
      "2017-06-26 16:26:57,685 multisense_translate (129) DEBUG 0.4607784318041622 szempont [['aspect'], ['angle'], ['regard']]  92\n",
      "2017-06-26 16:26:57,989 multisense_translate (129) DEBUG 0.3767458679938941 lemez [['disc'], ['plate']]  93\n",
      "2017-06-26 16:26:58,444 multisense_translate (105) INFO prec after testing on 1000 words: 52.500000% (good_disambig: 93)\n"
     ]
    },
    {
     "name": "stdout",
     "output_type": "stream",
     "text": [
      "52.5%\n"
     ]
    }
   ],
   "source": [
    "sims = MultiSenseLinearTranslator(restrict_vocab=2**14).main()"
   ]
  },
  {
   "cell_type": "code",
   "execution_count": 13,
   "metadata": {},
   "outputs": [
    {
     "data": {
      "text/plain": [
       "(array([ 10.,  10.,  14.,  18.,   6.,   4.,   4.,   2.,  25.]),\n",
       " array([ 0.16031416,  0.25361258,  0.34691101,  0.44020944,  0.53350786,\n",
       "         0.62680629,  0.72010472,  0.81340315,  0.90670157,  1.        ]),\n",
       " <a list of 9 Patch objects>)"
      ]
     },
     "execution_count": 13,
     "metadata": {},
     "output_type": "execute_result"
    },
    {
     "data": {
      "image/png": "[encoded data removed]",
      "text/plain": [
       "<matplotlib.figure.Figure at 0x7faced84ccc0>"
      ]
     },
     "metadata": {},
     "output_type": "display_data"
    }
   ],
   "source": [
    "plt.hist(sims, bins=9)"
   ]
  }
 ],
 "metadata": {
  "kernelspec": {
   "display_name": "Python 3",
   "language": "python",
   "name": "python3"
  },
  "language_info": {
   "codemirror_mode": {
    "name": "ipython",
    "version": 3
   },
   "file_extension": ".py",
   "mimetype": "text/x-python",
   "name": "python",
   "nbconvert_exporter": "python",
   "pygments_lexer": "ipython3",
   "version": "3.4.2"
  }
 },
 "nbformat": 4,
 "nbformat_minor": 2
}
